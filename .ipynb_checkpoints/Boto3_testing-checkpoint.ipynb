{
 "cells": [
  {
   "cell_type": "code",
   "execution_count": 1,
   "id": "d9741fba-be64-4d6d-9e6b-4db9d4c81313",
   "metadata": {},
   "outputs": [],
   "source": [
    "import boto3"
   ]
  },
  {
   "cell_type": "code",
   "execution_count": 2,
   "id": "faf9e3e8-5a8e-474c-90c7-bd5cf77650fa",
   "metadata": {},
   "outputs": [],
   "source": [
    "client = boto3.client('s3')"
   ]
  },
  {
   "cell_type": "code",
   "execution_count": 41,
   "id": "c92ba645-9c91-4dff-9a02-a833e68bfb55",
   "metadata": {},
   "outputs": [
    {
     "data": {
      "text/plain": [
       "{'ResponseMetadata': {'RequestId': '311321S4YFQWH3YR',\n",
       "  'HostId': 'UZCpspMDOQrWPowHA74uTNMM1g4GjsTMAR3p6jrlddnjGZf9D+zYxlemnqSJALM9SsvXgG7tOAY=',\n",
       "  'HTTPStatusCode': 200,\n",
       "  'HTTPHeaders': {'x-amz-id-2': 'UZCpspMDOQrWPowHA74uTNMM1g4GjsTMAR3p6jrlddnjGZf9D+zYxlemnqSJALM9SsvXgG7tOAY=',\n",
       "   'x-amz-request-id': '311321S4YFQWH3YR',\n",
       "   'date': 'Mon, 04 Apr 2022 16:41:22 GMT',\n",
       "   'location': '/test1509322',\n",
       "   'server': 'AmazonS3',\n",
       "   'content-length': '0'},\n",
       "  'RetryAttempts': 0},\n",
       " 'Location': '/test1509322'}"
      ]
     },
     "execution_count": 41,
     "metadata": {},
     "output_type": "execute_result"
    }
   ],
   "source": [
    "client.create_bucket(Bucket='test1509322')"
   ]
  },
  {
   "cell_type": "code",
   "execution_count": 42,
   "id": "72d4d463-5050-441b-95f1-54fbc72e444a",
   "metadata": {},
   "outputs": [
    {
     "data": {
      "text/plain": [
       "{'ResponseMetadata': {'RequestId': 'J6QEGTCDAMAGGSZH',\n",
       "  'HostId': 'kkRq5nmnmwggRp/KFPwEJW10Lm+6mxBURed2qkyDx3Mkc5hMOmCLcTk1LmRfbKlioi+st4K4OEI=',\n",
       "  'HTTPStatusCode': 200,\n",
       "  'HTTPHeaders': {'x-amz-id-2': 'kkRq5nmnmwggRp/KFPwEJW10Lm+6mxBURed2qkyDx3Mkc5hMOmCLcTk1LmRfbKlioi+st4K4OEI=',\n",
       "   'x-amz-request-id': 'J6QEGTCDAMAGGSZH',\n",
       "   'date': 'Mon, 04 Apr 2022 16:41:39 GMT',\n",
       "   'location': '/test150931222',\n",
       "   'server': 'AmazonS3',\n",
       "   'content-length': '0'},\n",
       "  'RetryAttempts': 0},\n",
       " 'Location': '/test150931222'}"
      ]
     },
     "execution_count": 42,
     "metadata": {},
     "output_type": "execute_result"
    }
   ],
   "source": [
    "client.create_bucket(Bucket='test150931222')"
   ]
  },
  {
   "cell_type": "code",
   "execution_count": 43,
   "id": "b28dab77-33a0-46ed-a687-c0819067fc39",
   "metadata": {},
   "outputs": [
    {
     "data": {
      "text/plain": [
       "{'ResponseMetadata': {'RequestId': '4NNMFHWW5MAENW3G',\n",
       "  'HostId': 'RQ80wNwNYEy+xl/m4SRYct8MFLo8yfU5zYWPm/mZytpU5ethMoRmTfIbcUquAECp1rVtW95QLV8=',\n",
       "  'HTTPStatusCode': 200,\n",
       "  'HTTPHeaders': {'x-amz-id-2': 'RQ80wNwNYEy+xl/m4SRYct8MFLo8yfU5zYWPm/mZytpU5ethMoRmTfIbcUquAECp1rVtW95QLV8=',\n",
       "   'x-amz-request-id': '4NNMFHWW5MAENW3G',\n",
       "   'date': 'Mon, 04 Apr 2022 16:41:49 GMT',\n",
       "   'location': '/test150931asd222',\n",
       "   'server': 'AmazonS3',\n",
       "   'content-length': '0'},\n",
       "  'RetryAttempts': 0},\n",
       " 'Location': '/test150931asd222'}"
      ]
     },
     "execution_count": 43,
     "metadata": {},
     "output_type": "execute_result"
    }
   ],
   "source": [
    "client.create_bucket(Bucket='test150931asd222')"
   ]
  },
  {
   "cell_type": "code",
   "execution_count": 3,
   "id": "a91362b0-5352-4758-b5a4-e7812970782e",
   "metadata": {},
   "outputs": [],
   "source": [
    "response = client.list_buckets()"
   ]
  },
  {
   "cell_type": "code",
   "execution_count": 4,
   "id": "f197418d-7575-47c1-984c-28c31f7b15ec",
   "metadata": {},
   "outputs": [
    {
     "data": {
      "text/plain": [
       "{'ResponseMetadata': {'RequestId': 'MQ7SMQ8N0WDN01SY',\n",
       "  'HostId': 'wkZZNYjlh+r3AdW5ZHMPMu50WB3gEdLiYoucOw8E1J+MN/Wc5Z0hQC9G315TM9cH7LyePssLlT0=',\n",
       "  'HTTPStatusCode': 200,\n",
       "  'HTTPHeaders': {'x-amz-id-2': 'wkZZNYjlh+r3AdW5ZHMPMu50WB3gEdLiYoucOw8E1J+MN/Wc5Z0hQC9G315TM9cH7LyePssLlT0=',\n",
       "   'x-amz-request-id': 'MQ7SMQ8N0WDN01SY',\n",
       "   'date': 'Mon, 04 Apr 2022 14:37:05 GMT',\n",
       "   'content-type': 'application/xml',\n",
       "   'transfer-encoding': 'chunked',\n",
       "   'server': 'AmazonS3'},\n",
       "  'RetryAttempts': 0},\n",
       " 'Buckets': [{'Name': 'kgptalkie281',\n",
       "   'CreationDate': datetime.datetime(2022, 4, 4, 14, 13, 9, tzinfo=tzutc())}],\n",
       " 'Owner': {'DisplayName': 'carlosmccrum',\n",
       "  'ID': '19f37bf3449335fedb4b02b679fd852e7060beba8fd1f0075e04d892ac155ac8'}}"
      ]
     },
     "execution_count": 4,
     "metadata": {},
     "output_type": "execute_result"
    }
   ],
   "source": [
    "response"
   ]
  },
  {
   "cell_type": "markdown",
   "id": "1de4743e-ccaf-4e3f-bad6-2f6590dbe5e5",
   "metadata": {},
   "source": [
    "# Uploading Files"
   ]
  },
  {
   "cell_type": "code",
   "execution_count": 5,
   "id": "f07ef3cf-19d5-4e36-927b-0ffd6d892846",
   "metadata": {},
   "outputs": [],
   "source": [
    "def upload_files(file_name, bucket, object_name=None, args=None):\n",
    "    \"\"\"\n",
    "    file_name: name of file on local\n",
    "    bucket: bucket name\n",
    "    object_name: name of file on s3\n",
    "    args: custom args\n",
    "    \"\"\"\n",
    "    \n",
    "    if object_name is None:\n",
    "        object_name = file_name\n",
    "        \n",
    "    response = client.upload_file(file_name,bucket,object_name,ExtraArgs = args)\n",
    "    \n",
    "    print(response)"
   ]
  },
  {
   "cell_type": "code",
   "execution_count": 6,
   "id": "e5d45df1-afc1-43e0-958a-97a2416b927a",
   "metadata": {},
   "outputs": [
    {
     "name": "stdout",
     "output_type": "stream",
     "text": [
      "None\n"
     ]
    }
   ],
   "source": [
    "upload_files('Desktop/LANC-Zoom2.jpeg', 'kgptalkie281')"
   ]
  },
  {
   "cell_type": "code",
   "execution_count": 8,
   "id": "1a844406-6712-4fa3-b1e0-e0874ed1bae9",
   "metadata": {},
   "outputs": [],
   "source": [
    "import glob"
   ]
  },
  {
   "cell_type": "code",
   "execution_count": 11,
   "id": "78049d49-b5aa-4df1-8428-fa4bca33415d",
   "metadata": {},
   "outputs": [
    {
     "data": {
      "text/plain": [
       "['/Users/CMcCrum/Music/LANC-Zoom2.jpeg',\n",
       " '/Users/CMcCrum/Music/Visit-Tucson-Gates-Pass.jpeg']"
      ]
     },
     "execution_count": 11,
     "metadata": {},
     "output_type": "execute_result"
    }
   ],
   "source": [
    "files = glob.glob('/Users/CMcCrum/Music/*')\n",
    "files"
   ]
  },
  {
   "cell_type": "code",
   "execution_count": 22,
   "id": "21ae9912-590d-4973-8437-f0a64a6e0e15",
   "metadata": {
    "tags": []
   },
   "outputs": [
    {
     "name": "stdout",
     "output_type": "stream",
     "text": [
      "None\n",
      "uploaded  /Users/CMcCrum/Music/LANC-Zoom2.jpeg\n",
      "None\n",
      "uploaded  /Users/CMcCrum/Music/Visit-Tucson-Gates-Pass.jpeg\n"
     ]
    }
   ],
   "source": [
    "args = {'ACL': 'public-read'}\n",
    "for file in files:\n",
    "    upload_files(file, 'kgptalkie281', args = args)\n",
    "    print('uploaded ', file)"
   ]
  },
  {
   "cell_type": "markdown",
   "id": "260b802d-2556-4670-9f53-5cc519f45841",
   "metadata": {},
   "source": [
    "# Download Files"
   ]
  },
  {
   "cell_type": "code",
   "execution_count": 15,
   "id": "29e1c94a-8112-48a2-b9a3-f5e6376c5f66",
   "metadata": {},
   "outputs": [],
   "source": [
    "s3 = boto3.resource('s3')"
   ]
  },
  {
   "cell_type": "code",
   "execution_count": 17,
   "id": "8f9b1a5f-caad-4fb8-87fe-f4bea5636b78",
   "metadata": {},
   "outputs": [
    {
     "data": {
      "text/plain": [
       "[s3.Bucket(name='kgptalkie281')]"
      ]
     },
     "execution_count": 17,
     "metadata": {},
     "output_type": "execute_result"
    }
   ],
   "source": [
    "list(s3.buckets.all())"
   ]
  },
  {
   "cell_type": "code",
   "execution_count": 20,
   "id": "8c481e91-d400-46ea-92db-9be2ac279dee",
   "metadata": {},
   "outputs": [],
   "source": [
    "bucket = s3.Bucket('kgptalkie281')"
   ]
  },
  {
   "cell_type": "code",
   "execution_count": 23,
   "id": "266608e7-55d1-427b-939c-a340394e467f",
   "metadata": {},
   "outputs": [
    {
     "data": {
      "text/plain": [
       "[s3.ObjectSummary(bucket_name='kgptalkie281', key='/Users/CMcCrum/Music/LANC-Zoom2.jpeg'),\n",
       " s3.ObjectSummary(bucket_name='kgptalkie281', key='/Users/CMcCrum/Music/Visit-Tucson-Gates-Pass.jpeg')]"
      ]
     },
     "execution_count": 23,
     "metadata": {},
     "output_type": "execute_result"
    }
   ],
   "source": [
    "files = list(bucket.objects.all())"
   ]
  },
  {
   "cell_type": "code",
   "execution_count": 26,
   "id": "7fe5a1f1-f7b4-4d8a-817f-1af06b183363",
   "metadata": {},
   "outputs": [
    {
     "data": {
      "text/plain": [
       "'/Users/CMcCrum/Music/LANC-Zoom2.jpeg'"
      ]
     },
     "execution_count": 26,
     "metadata": {},
     "output_type": "execute_result"
    }
   ],
   "source": [
    "files[0]"
   ]
  },
  {
   "cell_type": "code",
   "execution_count": 27,
   "id": "e025875a-4c17-47c9-a76b-00de2e471970",
   "metadata": {},
   "outputs": [],
   "source": [
    "for file in files:\n",
    "    #dn = file.split('')\n",
    "    client.download_file('kgptalkie281', file, file)"
   ]
  },
  {
   "cell_type": "markdown",
   "id": "b038ba5e-339b-4d22-8d43-a33e3585eede",
   "metadata": {},
   "source": [
    "# Bucket Policy"
   ]
  },
  {
   "cell_type": "markdown",
   "id": "7e452630-584c-41d2-ac0a-ea9b9c9f74ef",
   "metadata": {},
   "source": [
    "https://docs.aws.amazon.com/AmazonS3/latest/userguide/example-bucket-policies.html"
   ]
  },
  {
   "cell_type": "code",
   "execution_count": 29,
   "id": "931cf28a-0d22-48ca-ac30-cc2a8a4aca4b",
   "metadata": {},
   "outputs": [
    {
     "data": {
      "text/plain": [
       "{'Version': '2012-10-17',\n",
       " 'Statement': [{'Sid': 'PublicRead',\n",
       "   'Effect': 'Allow',\n",
       "   'Principal': '*',\n",
       "   'Action': ['s3:GetObject', 's3:GetObjectVersion'],\n",
       "   'Resource': ['arn:aws:s3:::DOC-EXAMPLE-BUCKET/*']}]}"
      ]
     },
     "execution_count": 29,
     "metadata": {},
     "output_type": "execute_result"
    }
   ],
   "source": [
    "{\n",
    "    \"Version\": \"2012-10-17\",\n",
    "    \"Statement\": [\n",
    "        {\n",
    "            \"Sid\": \"PublicRead\",\n",
    "            \"Effect\": \"Allow\",\n",
    "            \"Principal\": \"*\",\n",
    "            \"Action\": [\n",
    "                \"s3:GetObject\",\n",
    "                \"s3:GetObjectVersion\"\n",
    "            ],\n",
    "            \"Resource\": [\n",
    "                \"arn:aws:s3:::DOC-EXAMPLE-BUCKET/*\"\n",
    "            ]\n",
    "        }\n",
    "    ]\n",
    "}"
   ]
  },
  {
   "cell_type": "code",
   "execution_count": 30,
   "id": "f5c54887-5717-45ba-94ed-4ebef01e5f82",
   "metadata": {},
   "outputs": [],
   "source": [
    "import json\n",
    "\n",
    "bucket_name = 'kgptalkie281'\n",
    "bucket_policy = {\n",
    "    \"Version\": \"2012-10-17\",\n",
    "    \"Statement\": [\n",
    "        {\n",
    "            \"Sid\": \"PublicRead\",\n",
    "            \"Effect\": \"Allow\",\n",
    "            \"Principal\": \"*\",\n",
    "            \"Action\": [\"s3:GetObject\", \"s3:GetObjectVersion\"],\n",
    "            \"Resource\": [\"arn:aws:s3:::kgptalkie281/*\"]\n",
    "        }\n",
    "    ]\n",
    "}\n",
    "\n",
    "bucket_policy = json.dumps(bucket_policy)"
   ]
  },
  {
   "cell_type": "code",
   "execution_count": 31,
   "id": "14fb3d99-a8d6-488c-99e0-7c3722d16ca6",
   "metadata": {},
   "outputs": [
    {
     "data": {
      "text/plain": [
       "'{\"Version\": \"2012-10-17\", \"Statement\": [{\"Sid\": \"PublicRead\", \"Effect\": \"Allow\", \"Principal\": \"*\", \"Action\": [\"s3:GetObject\", \"s3:GetObjectVersion\"], \"Resource\": [\"arn:aws:s3:::kgptalkie281/*\"]}]}'"
      ]
     },
     "execution_count": 31,
     "metadata": {},
     "output_type": "execute_result"
    }
   ],
   "source": [
    "bucket_policy"
   ]
  },
  {
   "cell_type": "code",
   "execution_count": 32,
   "id": "4b039d88-92f0-4eb5-a8a1-067e16fb8f66",
   "metadata": {},
   "outputs": [
    {
     "data": {
      "text/plain": [
       "{'ResponseMetadata': {'RequestId': 'RDNWK8DTQGT3QGPT',\n",
       "  'HostId': '0sHfIGgrIONyWDKMnV126ZloCejLWpoVPKCCtEZlSmEkfPZyHJadQ2d6TJ4wT7dXGl5fsbVCgMc=',\n",
       "  'HTTPStatusCode': 204,\n",
       "  'HTTPHeaders': {'x-amz-id-2': '0sHfIGgrIONyWDKMnV126ZloCejLWpoVPKCCtEZlSmEkfPZyHJadQ2d6TJ4wT7dXGl5fsbVCgMc=',\n",
       "   'x-amz-request-id': 'RDNWK8DTQGT3QGPT',\n",
       "   'date': 'Mon, 04 Apr 2022 15:31:15 GMT',\n",
       "   'server': 'AmazonS3'},\n",
       "  'RetryAttempts': 0}}"
      ]
     },
     "execution_count": 32,
     "metadata": {},
     "output_type": "execute_result"
    }
   ],
   "source": [
    "client.put_bucket_policy(Bucket = bucket_name, Policy = bucket_policy)"
   ]
  },
  {
   "cell_type": "code",
   "execution_count": 33,
   "id": "beb0acb1-18c3-4504-b9dc-85b2ff05fdc0",
   "metadata": {},
   "outputs": [
    {
     "data": {
      "text/plain": [
       "{'ResponseMetadata': {'RequestId': '2W3GWM84R0FQ6JQ0',\n",
       "  'HostId': 'J9mG3/hLKvN1g46pOaTns628J3Dhf65rNcJVrI9+Z1kY4CETCZiNw0QD7rDDEpWZuLvsNRtTYOs=',\n",
       "  'HTTPStatusCode': 200,\n",
       "  'HTTPHeaders': {'x-amz-id-2': 'J9mG3/hLKvN1g46pOaTns628J3Dhf65rNcJVrI9+Z1kY4CETCZiNw0QD7rDDEpWZuLvsNRtTYOs=',\n",
       "   'x-amz-request-id': '2W3GWM84R0FQ6JQ0',\n",
       "   'date': 'Mon, 04 Apr 2022 15:33:09 GMT',\n",
       "   'content-type': 'application/json',\n",
       "   'server': 'AmazonS3',\n",
       "   'content-length': '181'},\n",
       "  'RetryAttempts': 0},\n",
       " 'Policy': '{\"Version\":\"2012-10-17\",\"Statement\":[{\"Sid\":\"PublicRead\",\"Effect\":\"Allow\",\"Principal\":\"*\",\"Action\":[\"s3:GetObject\",\"s3:GetObjectVersion\"],\"Resource\":\"arn:aws:s3:::kgptalkie281/*\"}]}'}"
      ]
     },
     "execution_count": 33,
     "metadata": {},
     "output_type": "execute_result"
    }
   ],
   "source": [
    "client.get_bucket_policy(Bucket=bucket_name)"
   ]
  },
  {
   "cell_type": "markdown",
   "id": "a80b22e7-a0ad-4338-a319-95d15b4e0b41",
   "metadata": {},
   "source": [
    "# Host a static Website in S3"
   ]
  },
  {
   "cell_type": "code",
   "execution_count": 34,
   "id": "0eabe428-cf23-4d00-ab6e-4daaebc11761",
   "metadata": {},
   "outputs": [],
   "source": [
    "conf = {\n",
    "    'ErrorDocument': {'Key': 'error.html'},\n",
    "    'IndexDocument': {'Suffix': 'index.html'}\n",
    "}"
   ]
  },
  {
   "cell_type": "code",
   "execution_count": 35,
   "id": "8f6ea5b6-56bb-4757-9841-1ab3ce22d8e5",
   "metadata": {},
   "outputs": [
    {
     "data": {
      "text/plain": [
       "{'ResponseMetadata': {'RequestId': 'VQQCRPPVQY69RJXA',\n",
       "  'HostId': 'dSAusKGGgBeUD144LWHqIbSlWRz+FkUXKsHlmd1rs4UubxhxPm/wmtCD/LmEJFfN1o53h69MEnU=',\n",
       "  'HTTPStatusCode': 200,\n",
       "  'HTTPHeaders': {'x-amz-id-2': 'dSAusKGGgBeUD144LWHqIbSlWRz+FkUXKsHlmd1rs4UubxhxPm/wmtCD/LmEJFfN1o53h69MEnU=',\n",
       "   'x-amz-request-id': 'VQQCRPPVQY69RJXA',\n",
       "   'date': 'Mon, 04 Apr 2022 15:37:39 GMT',\n",
       "   'server': 'AmazonS3',\n",
       "   'content-length': '0'},\n",
       "  'RetryAttempts': 0}}"
      ]
     },
     "execution_count": 35,
     "metadata": {},
     "output_type": "execute_result"
    }
   ],
   "source": [
    "client.put_bucket_website(Bucket=bucket_name, WebsiteConfiguration=conf)"
   ]
  },
  {
   "cell_type": "code",
   "execution_count": 37,
   "id": "cf525079-b7a1-41d8-ae06-5dcc19d9be28",
   "metadata": {},
   "outputs": [
    {
     "data": {
      "text/plain": [
       "{'ResponseMetadata': {'RequestId': 'FNGFX3YKBK634XTN',\n",
       "  'HostId': 'lbV8GiBLvH5zgyNOGaX6tvwE57U21NhSD4369fX0eE5U5LpvV2o3Jbf0yaVwPJ7SCosySxJNYtU=',\n",
       "  'HTTPStatusCode': 200,\n",
       "  'HTTPHeaders': {'x-amz-id-2': 'lbV8GiBLvH5zgyNOGaX6tvwE57U21NhSD4369fX0eE5U5LpvV2o3Jbf0yaVwPJ7SCosySxJNYtU=',\n",
       "   'x-amz-request-id': 'FNGFX3YKBK634XTN',\n",
       "   'date': 'Mon, 04 Apr 2022 16:08:39 GMT',\n",
       "   'content-type': 'application/xml',\n",
       "   'transfer-encoding': 'chunked',\n",
       "   'server': 'AmazonS3'},\n",
       "  'RetryAttempts': 1},\n",
       " 'IndexDocument': {'Suffix': 'index.html'},\n",
       " 'ErrorDocument': {'Key': 'error.html'}}"
      ]
     },
     "execution_count": 37,
     "metadata": {},
     "output_type": "execute_result"
    }
   ],
   "source": [
    "client.get_bucket_website(Bucket=bucket_name)"
   ]
  },
  {
   "cell_type": "code",
   "execution_count": 39,
   "id": "91cbe886-13ea-4843-b08e-be8b8fd8a8f8",
   "metadata": {},
   "outputs": [
    {
     "name": "stdout",
     "output_type": "stream",
     "text": [
      "None\n"
     ]
    }
   ],
   "source": [
    "args = {'ACL': 'public-read', 'ContentType': 'text/html'}\n",
    "upload_files('/Users/CMcCrum/Music/index.html', 'kgptalkie281', object_name='/Users/CMcCrum/Music/index.html', args=args)"
   ]
  },
  {
   "cell_type": "code",
   "execution_count": null,
   "id": "baa943e6-48ac-4239-8739-a9cafc1b99b6",
   "metadata": {},
   "outputs": [],
   "source": []
  }
 ],
 "metadata": {
  "kernelspec": {
   "display_name": "Python 3 (ipykernel)",
   "language": "python",
   "name": "python3"
  },
  "language_info": {
   "codemirror_mode": {
    "name": "ipython",
    "version": 3
   },
   "file_extension": ".py",
   "mimetype": "text/x-python",
   "name": "python",
   "nbconvert_exporter": "python",
   "pygments_lexer": "ipython3",
   "version": "3.9.11"
  }
 },
 "nbformat": 4,
 "nbformat_minor": 5
}
